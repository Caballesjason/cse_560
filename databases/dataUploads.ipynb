{
 "cells": [
  {
   "cell_type": "markdown",
   "metadata": {},
   "source": [
    "Here we are uploading the PC data"
   ]
  },
  {
   "cell_type": "code",
   "execution_count": 1,
   "metadata": {},
   "outputs": [],
   "source": [
    "import pandas as pd\n",
    "import sqlite3\n",
    "from sqlite3 import Error\n",
    "\n",
    "\n",
    "def create_connection(db_file):\n",
    "    conn = None\n",
    "    try:\n",
    "        conn = sqlite3.connect(db_file)\n",
    "    except Error as e:\n",
    "        print(e)\n",
    "\n",
    "    return conn\n",
    "\n",
    "\n",
    "def create_table(conn, create_table_sql, drop_table_name=None):\n",
    "    \n",
    "    if drop_table_name: # You can optionally pass drop_table_name to drop the table. \n",
    "        try:\n",
    "            c = conn.cursor()\n",
    "            c.execute(\"\"\"DROP TABLE IF EXISTS %s\"\"\" % (drop_table_name))\n",
    "        except Error as e:\n",
    "            print(e)\n",
    "    \n",
    "    try:\n",
    "        c = conn.cursor()\n",
    "        c.execute(create_table_sql)\n",
    "    except Error as e:\n",
    "        print(e)\n",
    "        \n",
    "def execute_sql_statement(sql_statement, conn):\n",
    "    cur = conn.cursor()\n",
    "    cur.execute(sql_statement)\n",
    "\n",
    "    rows = cur.fetchall()\n",
    "\n",
    "    return rows\n",
    "\n",
    "conn = create_connection(\"notes_database.db\")"
   ]
  },
  {
   "cell_type": "code",
   "execution_count": 2,
   "metadata": {},
   "outputs": [
    {
     "name": "stdout",
     "output_type": "stream",
     "text": [
      "table PCData already exists\n"
     ]
    },
    {
     "data": {
      "text/plain": [
       "' \\nNext Steps, write a function to auto upload any csv/excel data to a created table in your database\\ninputs: \\n    csv\\n    dictionary of dtypes for each column :)\\n\\n'"
      ]
     },
     "execution_count": 2,
     "metadata": {},
     "output_type": "execute_result"
    }
   ],
   "source": [
    "data = pd.read_csv(\"pcData.csv\")\n",
    "\n",
    "create_pc_table_query = \"\"\"\n",
    "CREATE TABLE PCData(\n",
    "    model INT\n",
    "    ,speed REAL\n",
    "    ,ram INT \n",
    "    ,hd INT\n",
    "    ,price REAL\n",
    ")\n",
    "\"\"\"\n",
    "create_table(conn, create_pc_table_query)\n",
    "\n",
    "\"\"\" \n",
    "Next Steps, write a function to auto upload any csv/excel data to a created table in your database\n",
    "inputs: \n",
    "    csv\n",
    "    dictionary of dtypes for each column :)\n",
    "\n",
    "\"\"\"\n"
   ]
  },
  {
   "cell_type": "code",
   "execution_count": 6,
   "metadata": {},
   "outputs": [],
   "source": [
    "def data_insert(csv_file, dtype_dict, table=None, conn=None):\n",
    "    cur = conn.cursor()\n",
    "    data = pd.read_csv(csv_file, dtype=dtype_dict)\n",
    "    data_as_named_tuples = list(data.itertuples(index=False))\n",
    "    data_as_tuples = [tuple(row) for row in data_as_named_tuples]\n",
    "\n",
    "    # Must update to take any amount of columns and auto edit the query based on the amount of columns\n",
    "    insert_query = f\"\"\"\n",
    "    INSERT INTO {table}(model, speed, ram, hd, price) VALUES (?, ?, ?, ?, ?)\n",
    "    \"\"\"\n",
    "    cur.executemany(insert_query, data_as_tuples)\n",
    "\n"
   ]
  },
  {
   "cell_type": "code",
   "execution_count": 8,
   "metadata": {},
   "outputs": [],
   "source": [
    "initial_dict = {\"model\":\"int64\", \"speed\":\"float64\", \"ram\":\"int64\", \"hd\":\"int64\", \"price\":\"float64\"}\n",
    "data_insert(\"pcData.csv\", initial_dict, \"PCData\", conn)"
   ]
  },
  {
   "cell_type": "code",
   "execution_count": null,
   "metadata": {},
   "outputs": [],
   "source": []
  },
  {
   "cell_type": "code",
   "execution_count": null,
   "metadata": {},
   "outputs": [],
   "source": []
  }
 ],
 "metadata": {
  "kernelspec": {
   "display_name": "Python 3",
   "language": "python",
   "name": "python3"
  },
  "language_info": {
   "codemirror_mode": {
    "name": "ipython",
    "version": 3
   },
   "file_extension": ".py",
   "mimetype": "text/x-python",
   "name": "python",
   "nbconvert_exporter": "python",
   "pygments_lexer": "ipython3",
   "version": "3.11.7"
  }
 },
 "nbformat": 4,
 "nbformat_minor": 2
}
